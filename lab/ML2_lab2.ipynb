{
 "cells": [
  {
   "cell_type": "markdown",
   "metadata": {
    "colab_type": "text",
    "id": "cQAw0bL5ACxR"
   },
   "source": [
    "# Lab 2: Inference in Graphical Models\n",
    "\n",
    "### Machine Learning 2 (2017/2018)\n",
    "\n",
    "* The lab exercises should be made in groups of two people.\n",
    "* The deadline is Thursday, 29.04, 23:59.\n",
    "* Assignment should be submitted through BlackBoard! Make sure to include your and your teammates' names with the submission.\n",
    "* Attach the .IPYNB (IPython Notebook) file containing your code and answers. Naming of the file should be \"studentid1\\_studentid2\\_lab#\", for example, the attached file should be \"12345\\_12346\\_lab1.ipynb\". Only use underscores (\"\\_\") to connect ids, otherwise the files cannot be parsed.\n",
    "\n",
    "Notes on implementation:\n",
    "\n",
    "* You should write your code and answers in an IPython Notebook: http://ipython.org/notebook.html. If you have problems, please ask.\n",
    "* Use __one cell__ for code and markdown answers only!\n",
    "    * Put all code in the cell with the ```# YOUR CODE HERE``` comment and overwrite the ```raise NotImplementedError()``` line.\n",
    "    * For theoretical questions, put your solution using LaTeX style formatting in the YOUR ANSWER HERE cell.\n",
    "* Among the first lines of your notebook should be \"%pylab inline\". This imports all required modules, and your plots will appear inline.\n",
    "* Large parts of you notebook will be graded automatically. Therefore it is important that your notebook can be run completely without errors and within a reasonable time limit. To test your notebook before submission, select Kernel -> Restart \\& Run All."
   ]
  },
  {
   "cell_type": "markdown",
   "metadata": {
    "colab_type": "text",
    "id": "juEXf1QGACxT"
   },
   "source": [
    "### Introduction\n",
    "In this assignment, we will implement the sum-product and max-sum algorithms for factor graphs over discrete variables. The relevant theory is covered in chapter 8 of Bishop's PRML book, in particular section 8.4. Read this chapter carefuly before continuing!\n",
    "\n",
    "We will implement sum-product and max-sum and apply it to a poly-tree structured medical diagnosis example.\n",
    "\n",
    "For this assignment you should use numpy ndarrays (constructed with np.array, np.zeros, np.ones, etc.). We need n-dimensional arrays in order to store conditional distributions with more than one conditioning variable. If you want to perform matrix multiplication on arrays, use the np.dot function; all infix operators including *, +, -, work element-wise on arrays."
   ]
  },
  {
   "cell_type": "markdown",
   "metadata": {
    "colab_type": "text",
    "id": "7bLtVaSYACxW"
   },
   "source": [
    "## Part 0: Doing the math (5 points)\n",
    "We start with a set of three Bernoulli distributed variables X, Y, Z. Calculate the marginals $p(Y=1)$ and $p(Y=0)$ using only the sum and product rule where,\n",
    "\n",
    "$$\n",
    "p(X=1) = 0.05 \\\\\\\\\n",
    "p(Z=1) = 0.2 \\\\\\\\\n",
    "$$\n",
    "$$\n",
    "p(Y = 1 | X = 1, Z = 1) = 0.99 \\\\\\\\\n",
    "p(Y = 1 | X = 1, Z = 0) = 0.9 \\\\\\\\\n",
    "p(Y = 1 | X = 0, Z = 1) = 0.7 \\\\\\\\\n",
    "p(Y = 1 | X = 0, Z = 0) = 0.0001 \\\\\\\\\n",
    "$$\n",
    "\n",
    "While implementing the message passing algorithms you should be able to use the results of this question as a guidance."
   ]
  },
  {
   "cell_type": "markdown",
   "metadata": {
    "colab_type": "text",
    "id": "vuZSNthKACxa"
   },
   "source": [
    "YOUR ANSWER HERE\n",
    "$p(Y=1) \\\\\n",
    "= p(Y=1|X=1,Z=1) \\cdot p(X=1) \\cdot p(Z=1) + p(Y=1|X=0,Z=1) \\cdot p(X=0) \\cdot p(Z=1) + p(Y=1|X=1,Z=0) \\cdot p(X=1) \\cdot p(Z=0) + p(Y=1|X=0,Z=0) \\cdot p(X=0) \\cdot p(Z=0)      \\\\\n",
    "= 0.99 \\cdot 0.05 \\cdot 0.2 + 0.7 \\cdot 0.95 \\cdot 0.2 + 0.9 \\cdot 0.05 \\cdot 0.8 + 0.0001 \\cdot 0.95 \\cdot 0.8      \\\\\n",
    "= 0.178976 \\\\\n",
    "\\\\\n",
    "p(Y=0) = 1 - p(Y=1) = 0.821024$\n"
   ]
  },
  {
   "cell_type": "markdown",
   "metadata": {
    "colab_type": "text",
    "id": "mZ1MGFuFACxb"
   },
   "source": [
    "## Part 1: The sum-product algorithm\n",
    "\n",
    "We will implement a data structure to store a factor graph and to facilitate computations on this graph. Recall that a factor graph consists of two types of nodes, factors and variables. Below you will find some classes for these node types to get you started. Carefully inspect this code and make sure you understand what it does. Step by step will update its functionality."
   ]
  },
  {
   "cell_type": "code",
   "execution_count": 1,
   "metadata": {
    "colab": {
     "autoexec": {
      "startup": false,
      "wait_interval": 0
     },
     "base_uri": "https://localhost:8080/",
     "height": 34
    },
    "colab_type": "code",
    "executionInfo": {
     "elapsed": 2518,
     "status": "ok",
     "timestamp": 1526127442225,
     "user": {
      "displayName": "Pascal Esser",
      "photoUrl": "https://lh3.googleusercontent.com/a/default-user=s128",
      "userId": "104710494754638466147"
     },
     "user_tz": -120
    },
    "id": "qaEyiDmDACxd",
    "outputId": "50b6404c-b234-4a56-86e1-e4dc0675b77e"
   },
   "outputs": [
    {
     "name": "stdout",
     "output_type": "stream",
     "text": [
      "Populating the interactive namespace from numpy and matplotlib\n"
     ]
    }
   ],
   "source": [
    "%pylab inline\n",
    "\n",
    "class Node(object):\n",
    "    \"\"\"\n",
    "    Base-class for Nodes in a factor graph. Only instantiate sub-classes of Node.\n",
    "    \"\"\"\n",
    "    def __init__(self, name):\n",
    "        # A name for this Node, for printing purposes\n",
    "        self.name = name\n",
    "        \n",
    "        # Neighbours in the graph, identified with their index in this list.\n",
    "        # i.e. self.neighbours contains neighbour 0 through len(self.neighbours) - 1.\n",
    "        self.neighbours = []\n",
    "        \n",
    "        # Reset the node-state (not the graph topology)\n",
    "        self.reset()\n",
    "        \n",
    "    def reset(self):\n",
    "        # Incomming messages; a dictionary mapping neighbours to messages.\n",
    "        # That is, it maps  Node -> np.ndarray.\n",
    "        self.in_msgs = {}\n",
    "        \n",
    "        # A set of neighbours for which this node has pending messages.\n",
    "        # We use a python set object so we don't have to worry about duplicates.\n",
    "        self.pending = set([])\n",
    "\n",
    "    def add_neighbour(self, nb):\n",
    "        self.neighbours.append(nb)\n",
    "\n",
    "    def send_sp_msg(self, other):\n",
    "        # To be implemented in subclass.\n",
    "        raise Exception('Method send_sp_msg not implemented in base-class Node')\n",
    "   \n",
    "    def send_ms_msg(self, other):\n",
    "        # To be implemented in subclass.\n",
    "        raise Exception('Method send_ms_msg not implemented in base-class Node')\n",
    "    \n",
    "    def receive_msg(self, other, msg):\n",
    "        # Store the incomming message, replacing previous messages from the same node\n",
    "        self.in_msgs[other] = msg\n",
    "\n",
    "        # TODO: add pending messages\n",
    "        # self.pending.update(...)\n",
    "    \n",
    "    def __str__(self):\n",
    "        # This is printed when using 'print node_instance'\n",
    "        return self.name\n",
    "\n",
    "\n",
    "class Variable(Node):\n",
    "    def __init__(self, name, num_states):\n",
    "        \"\"\"\n",
    "        Variable node constructor.\n",
    "        Args:\n",
    "            name: a name string for this node. Used for printing. \n",
    "            num_states: the number of states this variable can take.\n",
    "            Allowable states run from 0 through (num_states - 1).\n",
    "            For example, for a binary variable num_states=2,\n",
    "            and the allowable states are 0, 1.\n",
    "        \"\"\"\n",
    "        self.num_states = num_states\n",
    "        \n",
    "        # Call the base-class constructor\n",
    "        super(Variable, self).__init__(name)\n",
    "    \n",
    "    def set_observed(self, observed_state):\n",
    "        \"\"\"\n",
    "        Set this variable to an observed state.\n",
    "        Args:\n",
    "            observed_state: an integer value in [0, self.num_states - 1].\n",
    "        \"\"\"\n",
    "        # Observed state is represented as a 1-of-N variable\n",
    "        # Set all-but-one states to a very low probability;\n",
    "        # (a bit of a hack to avoid -inf values when taking logs)\n",
    "        self.observed_state[:] = 1e-10\n",
    "        self.observed_state[observed_state] = 1.0\n",
    "        \n",
    "    def set_latent(self):\n",
    "        \"\"\"\n",
    "        Erase an observed state for this variable and consider it latent again.\n",
    "        \"\"\"\n",
    "        # No state is preferred, so set all entries of observed_state to 1.0\n",
    "        # Using this representation we need not differentiate observed an latent\n",
    "        # variables when sending messages.\n",
    "        self.observed_state[:] = 1.0\n",
    "        \n",
    "    def reset(self):\n",
    "        super(Variable, self).reset()\n",
    "        self.observed_state = np.ones(self.num_states)\n",
    "        \n",
    "    def marginal(self):\n",
    "        \"\"\"\n",
    "        Compute the marginal distribution of this Variable.\n",
    "        It is assumed that message passing has completed when this function is called.\n",
    "        \"\"\"\n",
    "        # TODO: compute marginal\n",
    "        return None\n",
    "    \n",
    "    def unnormalized_log_marginal(self):\n",
    "        \"\"\"\n",
    "        Compute the unnormalized log marginal distribution of this variable.\n",
    "        It is assumed that message passing has completed when this function is called.\n",
    "        \"\"\"\n",
    "        # TODO: compute unnormalized log marginal\n",
    "        return None\n",
    "    \n",
    "    def send_sp_msg(self, other):\n",
    "        # TODO: implement Variable -> Factor message for sum-product\n",
    "        pass\n",
    "   \n",
    "    def send_ms_msg(self, other):\n",
    "        # TODO: implement Variable -> Factor message for max-sum\n",
    "        pass\n",
    "\n",
    "class Factor(Node):\n",
    "    def __init__(self, name, f, neighbours):\n",
    "        \"\"\"\n",
    "        Factor node constructor.\n",
    "        Args:\n",
    "            name: a name string for this node. Used for printing\n",
    "            f: a numpy.ndarray with N axes, where N is the number of neighbours.\n",
    "               That is, the axes of f correspond to variables, and the index along that axes corresponds to a value of that variable.\n",
    "               Each axis of the array should have as many entries as the corresponding neighbour variable has states.\n",
    "            neighbours: a list of neighbouring Variables. Bi-directional connections are created.\n",
    "        \"\"\"\n",
    "        # Call the base-class constructor\n",
    "        super(Factor, self).__init__(name)\n",
    "        \n",
    "        f = np.array(f)  # For convenience, accept lists (of lists (of numbers or potentially lists of ...))\n",
    "        \n",
    "        assert len(neighbours) == f.ndim, 'Factor function f should accept as many arguments as this Factor node has neighbours'\n",
    "        \n",
    "        for nb_ind in range(len(neighbours)):\n",
    "            nb = neighbours[nb_ind]\n",
    "            assert f.shape[nb_ind] == nb.num_states, 'The range of the factor function f is invalid for input %i %s' % (nb_ind, nb.name)\n",
    "            self.add_neighbour(nb)\n",
    "            nb.add_neighbour(self)\n",
    "\n",
    "        self.f = f\n",
    "        \n",
    "    def send_sp_msg(self, other):\n",
    "        # TODO: implement Factor -> Variable message for sum-product\n",
    "        pass\n",
    "   \n",
    "    def send_ms_msg(self, other):\n",
    "        # TODO: implement Factor -> Variable message for max-sum\n",
    "        pass\n"
   ]
  },
  {
   "cell_type": "markdown",
   "metadata": {
    "colab_type": "text",
    "id": "_T8Gelw2ACxm"
   },
   "source": [
    "### 1.1. Initialize the graph (5 points)\n",
    "The equations in Part 0 can be represented by a factor graph. Instantiate this graph by creating Variable and Factor instances and linking them according to the graph structure. \n",
    "To instantiate the factor graph, first create the Variable nodes and then create Factor nodes, passing a list of neighbour Variables to each Factor. To get you started, we initialize the variable node for $X$ and the factor node corresponding to the prior $p(X)$."
   ]
  },
  {
   "cell_type": "code",
   "execution_count": 2,
   "metadata": {
    "colab": {
     "autoexec": {
      "startup": false,
      "wait_interval": 0
     }
    },
    "colab_type": "code",
    "id": "NnqJKQ0mACxn"
   },
   "outputs": [],
   "source": [
    "X = Variable(name='X', num_states=2)\n",
    "X_prior = Factor(name='p(X)',\n",
    "                 f=np.array([0.95, 0.05]),\n",
    "                 neighbours=[X])\n",
    "\n",
    "# Please stick to the naming convention used below, otherwise the test functionality throughout the lab won't work\n",
    "                                 \n",
    "# YOUR CODE HERE\n",
    "############### ############### ###############\n",
    "\n",
    "Z = Variable(name='Z', num_states=2)\n",
    "Z_prior = Factor(name='p(Z)',\n",
    "                 f=np.array([0.8, 0.2]),\n",
    "                 neighbours=[Z])\n",
    "                 \n",
    "Y = Variable(name='Y', num_states=2)\n",
    "Y_cond = Factor(name='p(Y|X,Z)',     \n",
    "                f=np.array([[[0.9999, 0.3], [0.1, 0.01]],\n",
    "                            [[0.0001, 0.7], [0.9, 0.99]]]),\n",
    "                neighbours=[Y, X, Z])\n",
    "\n",
    "############### ############### ###############                                 \n"
   ]
  },
  {
   "cell_type": "code",
   "execution_count": 3,
   "metadata": {
    "colab": {
     "autoexec": {
      "startup": false,
      "wait_interval": 0
     }
    },
    "colab_type": "code",
    "id": "NacCGHt1ACxp"
   },
   "outputs": [],
   "source": [
    "### Test test test\n",
    "assert Z_prior.f.shape == (2,)\n",
    "assert Y_cond.f.shape == (2, 2, 2)"
   ]
  },
  {
   "cell_type": "markdown",
   "metadata": {
    "colab_type": "text",
    "id": "xFSTmkl0ACxr"
   },
   "source": [
    "We will be doing a lot of marginalizations, i.e. obtain the distribution of a *single* variable from a distribution over multiple variables. Let's first write a function `marginalize` for that."
   ]
  },
  {
   "cell_type": "code",
   "execution_count": 4,
   "metadata": {
    "colab": {
     "autoexec": {
      "startup": false,
      "wait_interval": 0
     },
     "base_uri": "https://localhost:8080/",
     "height": 138
    },
    "colab_type": "code",
    "executionInfo": {
     "elapsed": 409,
     "status": "ok",
     "timestamp": 1526127445183,
     "user": {
      "displayName": "Pascal Esser",
      "photoUrl": "https://lh3.googleusercontent.com/a/default-user=s128",
      "userId": "104710494754638466147"
     },
     "user_tz": -120
    },
    "id": "D1NXsT1bACxs",
    "outputId": "65ac579c-ef86-4841-9dbb-cf7054eac9c0"
   },
   "outputs": [
    {
     "name": "stdout",
     "output_type": "stream",
     "text": [
      "[[0.05686793 0.12413429 0.10955681 0.10591064]\n",
      " [0.08425015 0.12342844 0.12265491 0.02126651]\n",
      " [0.05450952 0.0484591  0.07710894 0.07185277]]\n",
      "[[0.11239342 0.10201807 0.18184459 0.08609187]\n",
      " [0.08323417 0.19400376 0.12747607 0.11293805]]\n",
      "[[0.17950755 0.1637918  0.1390486 ]\n",
      " [0.21696212 0.1878082  0.11288172]]\n"
     ]
    }
   ],
   "source": [
    "# Write a function marginalize that given\n",
    "def marginalize(P, dim):\n",
    "    \n",
    "    # YOUR CODE HERE\n",
    "    ############### ############### ###############\n",
    "    \n",
    "    return np.sum(P,dim)\n",
    "\n",
    "    ############### ############### ###############\n",
    "    \n",
    "# Lets try it\n",
    "test_P = np.random.rand(2, 3, 4)\n",
    "test_P = test_P / test_P.sum()  # Normalize for proper distribution\n",
    "\n",
    "# Do the marginal distributions look like you expect? - Yes.\n",
    "print (marginalize(test_P, 0))\n",
    "print (marginalize(test_P, 1))\n",
    "print (marginalize(test_P, 2))\n"
   ]
  },
  {
   "cell_type": "markdown",
   "metadata": {
    "colab_type": "text",
    "id": "SgtyJAeAACxu"
   },
   "source": [
    "### 1.2 Factor to variable messages (20 points)\n",
    "Write a method `send_sp_msg(self, other)` for the Factor class, that checks if all the information required to pass a message to `Variable` `other` is present, computes the message and sends it to `other`. \"Sending\" here simply means calling the `receive_msg` function of the receiving node (we will implement this later). The message itself should be represented as a numpy array (np.array) whose length is equal to the number of states of the variable.\n",
    "\n",
    "In the very end of 1.2 below we overwrite `send_sp_msg(self, other)` for the Factor class. In general, this is considered bad practise but in this lab it saves us from scrolling up and down all the time.\n",
    "\n",
    "You will implement a function `send_sp_msg` that sends a message from a factor to a variable for the max-sum algorith. This function implements Equation 8.66 from Bishop. The message should be a numpy array (np.array) whose length is equal to the number of states of the variable.\n",
    "\n",
    "It is a good idea to write a number of helper functions to implement these equations.\n",
    "\n",
    "Since it is always a good idea to include checks, you should first write a method `can_send_message` that checks whether a node `node` has all the information required to pass a message to `other`. This should work for both variable and factor nodes."
   ]
  },
  {
   "cell_type": "code",
   "execution_count": 5,
   "metadata": {
    "colab": {
     "autoexec": {
      "startup": false,
      "wait_interval": 0
     },
     "base_uri": "https://localhost:8080/",
     "height": 69
    },
    "colab_type": "code",
    "executionInfo": {
     "elapsed": 631,
     "status": "ok",
     "timestamp": 1526127446130,
     "user": {
      "displayName": "Pascal Esser",
      "photoUrl": "https://lh3.googleusercontent.com/a/default-user=s128",
      "userId": "104710494754638466147"
     },
     "user_tz": -120
    },
    "id": "bmhRnOQpACxu",
    "outputId": "280ad72e-23e5-465a-c3e8-144d81a19324"
   },
   "outputs": [
    {
     "name": "stdout",
     "output_type": "stream",
     "text": [
      "False\n",
      "True\n",
      "False\n"
     ]
    }
   ],
   "source": [
    "def can_send_message(sender, receiver):\n",
    "  \n",
    "    # YOUR CODE HERE\n",
    "    ############### ############### ###############\n",
    "\n",
    "    # check if receiver is actual neighbour of sender\n",
    "    if receiver not in sender.neighbours:\n",
    "      return False \n",
    "          \n",
    "    # check if all incoming messages existent\n",
    "    for nb in sender.neighbours:\n",
    "      if nb == receiver:\n",
    "        continue\n",
    "      else:\n",
    "        if nb not in sender.in_msgs.keys():\n",
    "          return False\n",
    "        \n",
    "    return True\n",
    "  \n",
    "    ############### ############### ###############\n",
    "\n",
    "# Do the results make sense?\n",
    "print (can_send_message(X, X_prior))\n",
    "print (can_send_message(X_prior, X))\n",
    "print (can_send_message(X_prior, Y_cond))"
   ]
  },
  {
   "cell_type": "markdown",
   "metadata": {
    "colab_type": "text",
    "id": "bDWZavskACxw"
   },
   "source": [
    "\n",
    "In Eq. 8.66, Bishop writes $f(x, x_1, ..., x_M)$, where $x$ corresponds to the variable that will receive the message. For now, assume this variable is the `index`-th neighbour of the factor. In order to ease implementation, it may be a good idea to write a function that rearanges the dimensions of `f` to comply with this notation, i.e. moves the dimension `index` to the front. Make sure to return a copy and keep all other dimensions in order! Use `np.moveaxis`."
   ]
  },
  {
   "cell_type": "code",
   "execution_count": 6,
   "metadata": {
    "colab": {
     "autoexec": {
      "startup": false,
      "wait_interval": 0
     }
    },
    "colab_type": "code",
    "id": "JWVPs51pACxw"
   },
   "outputs": [],
   "source": [
    "def move_dimension_first(f, index):\n",
    "  \n",
    "    # YOUR CODE HERE\n",
    "    ############### ############### ###############\n",
    "    \n",
    "    return np.moveaxis(f, index, 0)\n",
    "\n",
    "    ############### ############### ###############"
   ]
  },
  {
   "cell_type": "markdown",
   "metadata": {
    "colab_type": "text",
    "id": "enxcIx-UACxy"
   },
   "source": [
    "You should calculate the product of the incoming messages of all neighbours of the sending node except the receiving node. Therefore it may be useful to write a function `get_neighbour_messages` that gathers these messages in a list. If you want to not make things complicated, make sure the order of the messages in the list corresponds to the order of the variables in `neighbours`."
   ]
  },
  {
   "cell_type": "code",
   "execution_count": 7,
   "metadata": {
    "colab": {
     "autoexec": {
      "startup": false,
      "wait_interval": 0
     }
    },
    "colab_type": "code",
    "id": "FmDD9Z0-ACxy"
   },
   "outputs": [],
   "source": [
    "def get_neighbour_messages(sender, receiver):\n",
    "  \n",
    "    # YOUR CODE HERE\n",
    "    ############### ############### ###############\n",
    "    \n",
    "    other_neighbours = [nb for nb in sender.neighbours if not nb == receiver]\n",
    "\n",
    "    return [sender.in_msgs[nb] for nb in other_neighbours]\n",
    "\n",
    "    ############### ############### ###############"
   ]
  },
  {
   "cell_type": "markdown",
   "metadata": {
    "colab_type": "text",
    "id": "lKIKWTzHACxz"
   },
   "source": [
    "Before marginalizing, we need to calculate $\\prod_{m\\in\\text{ne}(f_s)\\setminus x} \\mu_{x_m\\rightarrow f_s}(x_m)$ (Eq. 8.66) for all possible combinations of $x_1, ..., x_M$ (values of the neighbour nodes except the receiving node). An elegant and efficient way to calculate these is using the n-way outer product of vectors. This product takes n vectors $\\mathbf{x}^{(1)}, \\ldots, \\mathbf{x}^{(n)}$ and computes a $n$-dimensional tensor (ndarray) whose element $i_0,i_1,...,i_n$ is given by $\\prod_j \\mathbf{x}^{(j)}_{i_j}$. In python, this is realized as `np.multiply.reduce(np.ix_(*vectors))` for a python list `vectors` of 1D numpy arrays. Try to figure out how this statement works -- it contains some useful functional programming techniques. What should `vectors` be? Try to see the link between the result and Eq. 8.66."
   ]
  },
  {
   "cell_type": "code",
   "execution_count": 8,
   "metadata": {
    "colab": {
     "autoexec": {
      "startup": false,
      "wait_interval": 0
     }
    },
    "colab_type": "code",
    "id": "yxsOoxGPACxz"
   },
   "outputs": [],
   "source": [
    "def calc_other_neighbour_msg_prod(sender, receiver):\n",
    "  \n",
    "    # YOUR CODE HERE\n",
    "    ############### ############### ###############\n",
    "    \n",
    "    return np.multiply.reduce(np.ix_(*get_neighbour_messages(sender, receiver)))\n",
    "    \n",
    "    ############### ############### ###############"
   ]
  },
  {
   "cell_type": "markdown",
   "metadata": {
    "colab_type": "text",
    "id": "DjJShwGUACx0"
   },
   "source": [
    "Following Eq. 8.66, before marginalizing, you should calculate the product of $f(x, x_1, ..., x_M)$ with $\\prod_{m\\in\\text{ne}(f_s)\\setminus x} \\mu_{x_m\\rightarrow f_s}(x_m)$ for all configurations of $x, x_1, ..., x_M$. Since the second part does not depend on $x$, its tensor representations are of different dimensions. You can overcome this problem by using a loop, but preferably use numpy broadcasting by first aligning the dimensions of the tensors. You can use `np.expand_dims` or `X[None, ...]` to insert one dimension at the front. Write a function `calculate_factor` that, given `f` (which is reordered such that $x$ corresponds to the first dimension) and the (outer) product of the other neighbour messages, computes $f(x, x_1, ..., x_M) \\prod_{m\\in\\text{ne}(f_s)\\setminus x} \\mu_{x_m\\rightarrow f_s}(x_m)$ for all configurations of $x, x_1, ..., x_M$."
   ]
  },
  {
   "cell_type": "code",
   "execution_count": 9,
   "metadata": {
    "colab": {
     "autoexec": {
      "startup": false,
      "wait_interval": 0
     }
    },
    "colab_type": "code",
    "id": "1-xYXulxACx1"
   },
   "outputs": [],
   "source": [
    "def calculate_factor(f_neighb_first, neighbour_msg_prod):\n",
    "  \n",
    "    # YOUR CODE HERE\n",
    "    ############### ############### ###############\n",
    "    \n",
    "    f_neighb_first = np.expand_dims(f_neighb_first, axis=0)\n",
    "    \n",
    "    return np.multiply(f_neighb_first, neighbour_msg_prod)\n",
    "\n",
    "    ############### ############### ###############\n",
    "  "
   ]
  },
  {
   "cell_type": "markdown",
   "metadata": {
    "colab_type": "text",
    "id": "JE3uIncKACx2"
   },
   "source": [
    "Put all the pieces together to define a function `calc_sum_product_factor_to_variable_msg` that calculates Eq. 8.66."
   ]
  },
  {
   "cell_type": "code",
   "execution_count": 10,
   "metadata": {
    "colab": {
     "autoexec": {
      "startup": false,
      "wait_interval": 0
     }
    },
    "colab_type": "code",
    "id": "r5_zzqbWACx2"
   },
   "outputs": [],
   "source": [
    "def calc_sum_product_factor_to_variable_msg(factor, variable):\n",
    "    \n",
    "    # YOUR CODE HERE\n",
    "    ############### ############### ###############\n",
    "\n",
    "    f_neighb_first = move_dimension_first(factor.f, factor.neighbours.index(variable))\n",
    "\n",
    "    neighbour_msg_prod = calc_other_neighbour_msg_prod(factor, variable)  \n",
    "\n",
    "    sum_product_factor = calculate_factor(f_neighb_first, neighbour_msg_prod)\n",
    "\n",
    "    while size(shape(sum_product_factor)) > 2:\n",
    "      sum_product_factor = marginalize(sum_product_factor, -1)\n",
    "\n",
    "    sum_product_factor = marginalize(sum_product_factor, 0)\n",
    "\n",
    "    return sum_product_factor\n",
    "\n",
    "    ############### ############### ###############"
   ]
  },
  {
   "cell_type": "code",
   "execution_count": 11,
   "metadata": {
    "colab": {
     "autoexec": {
      "startup": false,
      "wait_interval": 0
     }
    },
    "colab_type": "code",
    "id": "vgv5E_xuACx4"
   },
   "outputs": [],
   "source": [
    "# Finally, we will define the send message function for you\n",
    "def factor_send_sp_msg(self, variable):\n",
    "    \n",
    "    # YOUR CODE HERE\n",
    "    ############### ############### ###############\n",
    "    \n",
    "    assert isinstance(variable, Variable), \"Factor can only send messages to variable!\"\n",
    "    assert can_send_message(self, variable), \"Cannot send message!\"\n",
    "    \n",
    "    out_msg = calc_sum_product_factor_to_variable_msg(self, variable)\n",
    "    \n",
    "    ############### ############### ###############\n",
    "    \n",
    "    # Send the message\n",
    "    variable.receive_msg(self, out_msg)    \n",
    "    \n",
    "    # Remove the pending sign if present\n",
    "    self.pending.discard(variable)\n",
    "    \n",
    "Factor.send_sp_msg = factor_send_sp_msg\n"
   ]
  },
  {
   "cell_type": "code",
   "execution_count": 12,
   "metadata": {
    "colab": {
     "autoexec": {
      "startup": false,
      "wait_interval": 0
     }
    },
    "colab_type": "code",
    "id": "3KESiZu0ACx5"
   },
   "outputs": [],
   "source": [
    "### Test test test\n",
    "# message from X_prior to X\n",
    "X_prior.reset()\n",
    "X.reset()\n",
    "\n",
    "X_prior.send_sp_msg(X)\n",
    "assert np.allclose(list(X.in_msgs.values()), [0.95, 0.05])\n",
    "\n",
    "# message from Z_prior to Z\n",
    "Z_prior.reset()\n",
    "Z.reset()\n",
    "\n",
    "Z_prior.send_sp_msg(Z)\n",
    "assert np.allclose(list(Z.in_msgs.values()), [0.8, 0.2])\n",
    "\n",
    "# message from Y_cond to Y\n",
    "Y_cond.reset()\n",
    "Y.reset()\n",
    "\n",
    "Y_cond.receive_msg(X, X_prior.f) # simulating that Y_cond received all necessary messages from X\n",
    "Y_cond.receive_msg(Z, Z_prior.f) # simulating that Y_cond received all necessary messages from Z\n",
    "Y_cond.send_sp_msg(Y)\n",
    "assert np.allclose(list(Y.in_msgs.values()), [0.821024, 0.178976])\n"
   ]
  },
  {
   "cell_type": "markdown",
   "metadata": {
    "colab_type": "text",
    "id": "UHkchn9dACx6"
   },
   "source": [
    "### 1.3 Variable to factor messages (10 points)\n",
    "\n",
    "Write a method `calc_sum_product_variable_to_factor_msg(variable, factor)` that computes the message to be sent to a neighbour variable by a factor."
   ]
  },
  {
   "cell_type": "code",
   "execution_count": 13,
   "metadata": {
    "colab": {
     "autoexec": {
      "startup": false,
      "wait_interval": 0
     }
    },
    "colab_type": "code",
    "id": "_aH9qnOtACx6"
   },
   "outputs": [],
   "source": [
    "def calc_sum_product_variable_to_factor_msg(variable, factor):\n",
    "    \n",
    "    # YOUR CODE HERE\n",
    "    ############### ############### ###############\n",
    "\n",
    "    #check, how many neighbors it has -> if leaf node, return 1: TODO\n",
    "    if len(variable.neighbours) == 1:\n",
    "        neighbour_msg_prod = np.ones(variable.num_states)\n",
    "    else:\n",
    " \n",
    "        messages = get_neighbour_messages(variable, factor)\n",
    "        neighbour_msg_prod = np.prod(messages, axis=0)\n",
    "\n",
    "    return neighbour_msg_prod    \n",
    "\n",
    "    ############### ############### ###############"
   ]
  },
  {
   "cell_type": "code",
   "execution_count": 14,
   "metadata": {
    "colab": {
     "autoexec": {
      "startup": false,
      "wait_interval": 0
     }
    },
    "colab_type": "code",
    "id": "-cragQn8ACx7"
   },
   "outputs": [],
   "source": [
    "# Finally, we will define the send message function for you\n",
    "def variable_send_sp_msg(self, factor):\n",
    "    \n",
    "    # YOUR CODE HERE\n",
    "    ############### ############### ###############\n",
    "    \n",
    "    assert isinstance(factor, Factor), \"Variable can only send messages to factor!\"\n",
    "    assert can_send_message(self, factor), \"Cannot send message!\"\n",
    "    \n",
    "    out_msg = calc_sum_product_variable_to_factor_msg(self, factor)\n",
    "    \n",
    "    ############### ############### ###############\n",
    "    \n",
    "    # Send the message\n",
    "    factor.receive_msg(self, out_msg)\n",
    "    \n",
    "    # Remove the pending sign if present\n",
    "    self.pending.discard(factor)\n",
    "    \n",
    "Variable.send_sp_msg = variable_send_sp_msg\n"
   ]
  },
  {
   "cell_type": "code",
   "execution_count": 15,
   "metadata": {
    "colab": {
     "autoexec": {
      "startup": false,
      "wait_interval": 0
     }
    },
    "colab_type": "code",
    "id": "i8ZlSm3fACx8"
   },
   "outputs": [],
   "source": [
    "### Test test test\n",
    "Y_cond.reset()\n",
    "Y.reset()\n",
    "\n",
    "# First message from X to Y_cond\n",
    "X_prior.reset()\n",
    "X.reset()\n",
    "X_prior.send_sp_msg(X) # simulating that X received all necessary messages\n",
    "X.send_sp_msg(Y_cond) \n",
    "assert np.allclose(list(Y_cond.in_msgs.values()), [0.95, 0.05])\n",
    "\n",
    "# Second message from Z to Y_cond\n",
    "Z_prior.reset()\n",
    "Z.reset()\n",
    "Z_prior.send_sp_msg(Z) # simulating that Z received all necessary messages\n",
    "Z.send_sp_msg(Y_cond)\n",
    "assert np.allclose(list(Y_cond.in_msgs.values()), [[0.95, 0.05], [0.8, 0.2]])\n"
   ]
  },
  {
   "cell_type": "markdown",
   "metadata": {
    "colab_type": "text",
    "id": "cN9vzWxxACx9"
   },
   "source": [
    "### Testing a single forward pass and a single backward pass\n",
    "Before we go on we will make sure that messages can be passed in both directions the graph."
   ]
  },
  {
   "cell_type": "code",
   "execution_count": 16,
   "metadata": {
    "colab": {
     "autoexec": {
      "startup": false,
      "wait_interval": 0
     }
    },
    "colab_type": "code",
    "id": "0ynVPZjzACx9"
   },
   "outputs": [],
   "source": [
    "X_prior.reset()\n",
    "X.reset()\n",
    "Z_prior.reset()\n",
    "Z.reset()\n",
    "Y_cond.reset()\n",
    "Y.reset()\n",
    "\n",
    "# Forward pass\n",
    "X_prior.send_sp_msg(X)\n",
    "Z_prior.send_sp_msg(Z)\n",
    "X.send_sp_msg(Y_cond)\n",
    "Z.send_sp_msg(Y_cond)\n",
    "Y_cond.send_sp_msg(Y)\n",
    "assert np.allclose(list(Y.in_msgs.values()), [0.821024, 0.178976])\n",
    "\n",
    "# Backward pass\n",
    "Y.send_sp_msg(Y_cond)\n",
    "Y_cond.send_sp_msg(X)\n",
    "Y_cond.send_sp_msg(Z)\n",
    "X.send_sp_msg(X_prior)\n",
    "Z.send_sp_msg(Z_prior)\n",
    "assert np.allclose(list(X.in_msgs.values()), [[0.95, 0.05],[1., 1.]])\n",
    "assert np.allclose(list(Z.in_msgs.values()), [[0.8, 0.2],[1., 1.]])\n"
   ]
  },
  {
   "cell_type": "markdown",
   "metadata": {
    "colab_type": "text",
    "id": "VQjHnfaVACx_"
   },
   "source": [
    "### 1.4 Compute marginal (10 points)\n",
    "Later in this assignment, we will implement message passing schemes to do inference. Once the message passing has completed, we will want to compute local marginals for each variable.\n",
    "Write the method `marginal` for the `Variable` class, that computes a marginal distribution over that node."
   ]
  },
  {
   "cell_type": "code",
   "execution_count": 17,
   "metadata": {
    "colab": {
     "autoexec": {
      "startup": false,
      "wait_interval": 0
     }
    },
    "colab_type": "code",
    "id": "2c9E1HoeACx_"
   },
   "outputs": [],
   "source": [
    "def marginal(self):\n",
    "    \n",
    "    # YOUR CODE HERE\n",
    "    ############### ############### ###############\n",
    "    \n",
    "    msg_prod = 1\n",
    "    for key, value in self.in_msgs.items():\n",
    "        msg_prod = msg_prod * value\n",
    "\n",
    "    return msg_prod / msg_prod.sum()\n",
    "\n",
    "    ############### ############### ###############     \n",
    "      \n",
    "Variable.marginal = marginal\n"
   ]
  },
  {
   "cell_type": "code",
   "execution_count": 18,
   "metadata": {
    "colab": {
     "autoexec": {
      "startup": false,
      "wait_interval": 0
     }
    },
    "colab_type": "code",
    "id": "XhW1LuwLACyB"
   },
   "outputs": [],
   "source": [
    "### Test test test\n",
    "# Simulate a single forward pass\n",
    "X_prior.reset()\n",
    "X.reset()\n",
    "Z_prior.reset()\n",
    "Z.reset()\n",
    "Y_cond.reset()\n",
    "Y.reset()\n",
    "\n",
    "X_prior.send_sp_msg(X)\n",
    "Z_prior.send_sp_msg(Z)\n",
    "X.send_sp_msg(Y_cond)\n",
    "Z.send_sp_msg(Y_cond)\n",
    "Y_cond.send_sp_msg(Y)\n",
    "\n",
    "assert np.allclose(X.marginal(), [0.95, 0.05])\n",
    "assert np.allclose(Z.marginal(), [0.8, 0.2])\n",
    "assert np.allclose(Y.marginal(), [0.821024, 0.178976])\n"
   ]
  },
  {
   "cell_type": "markdown",
   "metadata": {
    "colab_type": "text",
    "id": "SB_wNYwrACyD"
   },
   "source": [
    "### 1.5 Receiving messages (10 points)\n",
    "In order to implement a message passing algorithms, we need some way to determine which nodes are ready to send messages to which neighbours. We make use of the concept of \"pending messages\", which is explained in Bishop (8.4.7): \n",
    "\"we will say that a (variable or factor)\n",
    "node a has a message pending on its link to a node b if node a has received any\n",
    "message on any of its other links since the last time it sent a message to b. Thus,\n",
    "when a node receives a message on one of its links, this creates pending messages\n",
    "on all of its other links.\"\n",
    "\n",
    "Before we say node a has a pending message for node b, we **must check that node a has received all messages needed to compute the message that is to be sent to b**.\n",
    "\n",
    "Modify the function `receive_msg`, so that it updates the self.pending variable as described above. The member self.pending is a set that is to be filled with Nodes to which self has pending messages."
   ]
  },
  {
   "cell_type": "code",
   "execution_count": 19,
   "metadata": {
    "colab": {
     "autoexec": {
      "startup": false,
      "wait_interval": 0
     }
    },
    "colab_type": "code",
    "id": "78EtpyOrACyE"
   },
   "outputs": [],
   "source": [
    "# ANSWER 1.5\n",
    "def receive_msg(self, other, msg):\n",
    "    self.in_msgs[other] = msg\n",
    "    \n",
    "    # YOUR CODE HERE\n",
    "    ############### ############### ###############\n",
    "    \n",
    "    for nb in self.neighbours:\n",
    "        if not nb == other and can_send_message(self, nb):\n",
    "            self.pending.add(nb)  \n",
    "        \n",
    "    ############### ############### ###############\n",
    "    \n",
    "Node.receive_msg = receive_msg\n"
   ]
  },
  {
   "cell_type": "code",
   "execution_count": 20,
   "metadata": {
    "colab": {
     "autoexec": {
      "startup": false,
      "wait_interval": 0
     }
    },
    "colab_type": "code",
    "id": "NNUwo0NHACyF"
   },
   "outputs": [],
   "source": [
    "### Test test test\n",
    "X_prior.reset()\n",
    "X.reset()\n",
    "assert X_prior.pending == set()\n",
    "\n",
    "X_prior.pending.add(X)\n",
    "assert str(list(X_prior.pending)[0]) == X.name\n",
    "\n",
    "X_prior.send_sp_msg(X)\n",
    "assert X_prior.pending == set()\n"
   ]
  },
  {
   "cell_type": "markdown",
   "metadata": {
    "colab_type": "text",
    "id": "5E-cC_vGACyF"
   },
   "source": [
    "### 1.6 Inference Engine (10 points)\n",
    "Write a function `sum_product(node_list)` that runs the sum-product message passing algorithm on a tree-structured factor graph with given nodes. The input parameter `node_list` is a list of all Node instances in the graph, which is assumed to be ordered correctly. That is, the list starts with a leaf node, which can always send a message. Subsequent nodes in `node_list` should be capable of sending a message when the pending messages of preceding nodes in the list have been sent. The sum-product algorithm then proceeds by passing over the list from beginning to end, sending all pending messages at the nodes it encounters. Then, in reverse order, the algorithm traverses the list again and again sends all pending messages at each node as it is encountered. For this to work, we initialized pending messages for all the leaf nodes, e.g. `X_prior.pending.add(X)`, where `X_prior` is a Factor node corresponding the the prior, `X` is a `Variable` node and the only connection of `X_prior` goes to `X`."
   ]
  },
  {
   "cell_type": "code",
   "execution_count": 21,
   "metadata": {
    "colab": {
     "autoexec": {
      "startup": false,
      "wait_interval": 0
     }
    },
    "colab_type": "code",
    "id": "5fr1C2-WACyG"
   },
   "outputs": [],
   "source": [
    "def sum_product(node_list):\n",
    "    \n",
    "    # YOUR CODE HERE\n",
    "    ############### ############### ###############\n",
    "    \n",
    "    for idx, elem in enumerate(node_list):\n",
    "        while elem.pending:        \n",
    "            receiver = elem.pending.pop()\n",
    "            elem.send_sp_msg(receiver)\n",
    "\n",
    "    for idx, elem in enumerate(list(reversed(node_list))):\n",
    "        while elem.pending:        \n",
    "            receiver = elem.pending.pop()\n",
    "            elem.send_sp_msg(receiver)\n",
    "        \n",
    "    ############### ############### ###############\n"
   ]
  },
  {
   "cell_type": "code",
   "execution_count": 22,
   "metadata": {
    "colab": {
     "autoexec": {
      "startup": false,
      "wait_interval": 0
     }
    },
    "colab_type": "code",
    "id": "F1dgtdWYACyH"
   },
   "outputs": [],
   "source": [
    "### Test test test\n",
    "nodes = [X_prior, X, Z_prior, Z, Y, Y_cond]\n",
    "for n in nodes:\n",
    "    n.reset()\n",
    "    \n",
    "X_prior.pending.add(X)\n",
    "Z_prior.pending.add(Z)\n",
    "Y.pending.add(Y_cond)\n",
    "\n",
    "sum_product(nodes)\n",
    "assert np.allclose(Y.marginal(), [0.821024, 0.178976])\n"
   ]
  },
  {
   "cell_type": "markdown",
   "metadata": {
    "colab_type": "text",
    "id": "Wai5KR9RACyI"
   },
   "source": [
    "### 1.7 Observed variables and probabilistic queries (15 points)\n",
    "We will now use the inference engine to answer probabilistic queries. That is, we will set certain variables to observed values, and obtain the marginals over latent variables. We have already provided functions `set_observed` and `set_latent` that manage a member of Variable called `observed_state`. Modify the `calc_sum_product_variable_to_factor_msg` and `Variable.marginal` routines that you wrote before, to use `observed_state` so as to get the required marginals when some nodes are observed."
   ]
  },
  {
   "cell_type": "code",
   "execution_count": 23,
   "metadata": {
    "colab": {
     "autoexec": {
      "startup": false,
      "wait_interval": 0
     }
    },
    "colab_type": "code",
    "id": "f0h-scptACyI"
   },
   "outputs": [],
   "source": [
    "def calc_sum_product_variable_to_factor_msg(variable, factor):\n",
    "    \n",
    "    # YOUR CODE HERE\n",
    "    ############### ############### ###############\n",
    "    \n",
    "    if len(variable.neighbours) == 1:\n",
    "        neighbour_msg_prod = np.ones(variable.num_states)\n",
    "    else:\n",
    "        messages = get_neighbour_messages(variable, factor)\n",
    "        neighbour_msg_prod = np.prod(messages, axis=0)\n",
    "    \n",
    "    return neighbour_msg_prod * variable.observed_state\n",
    "\n",
    "    ############### ############### ###############"
   ]
  },
  {
   "cell_type": "code",
   "execution_count": 24,
   "metadata": {
    "colab": {
     "autoexec": {
      "startup": false,
      "wait_interval": 0
     }
    },
    "colab_type": "code",
    "id": "RSHbMsc9ACyJ"
   },
   "outputs": [],
   "source": [
    "### Test, test, test\n",
    "X_prior.reset()\n",
    "X.reset()\n",
    "Y_cond.reset()\n",
    "\n",
    "X_prior.send_sp_msg(X)\n",
    "X.set_observed(0)\n",
    "X.send_sp_msg(Y_cond)\n",
    "\n",
    "assert np.allclose(list(Y_cond.in_msgs.values()), [9.5e-01, 5.0e-12])\n"
   ]
  },
  {
   "cell_type": "code",
   "execution_count": 25,
   "metadata": {
    "colab": {
     "autoexec": {
      "startup": false,
      "wait_interval": 0
     }
    },
    "colab_type": "code",
    "id": "dtUp2PaHACyK"
   },
   "outputs": [],
   "source": [
    "def marginal(self):\n",
    "    \n",
    "    # YOUR CODE HERE \n",
    "    ############### ############### ###############\n",
    "    \n",
    "    msg_prod = 1\n",
    "    for key, value in self.in_msgs.items():\n",
    "      msg_prod = msg_prod * value      \n",
    "      \n",
    "    msg_prod = msg_prod * self.observed_state\n",
    "    return msg_prod / msg_prod.sum()\n",
    "\n",
    "    ############### ############### ###############\n",
    "\n",
    "Variable.marginal = marginal"
   ]
  },
  {
   "cell_type": "code",
   "execution_count": 26,
   "metadata": {
    "colab": {
     "autoexec": {
      "startup": false,
      "wait_interval": 0
     }
    },
    "colab_type": "code",
    "id": "L0Br8BDRACyL"
   },
   "outputs": [],
   "source": [
    "### Test, test, test\n",
    "# Simulate a single forward pass\n",
    "X_prior.reset()\n",
    "X.reset()\n",
    "Z_prior.reset()\n",
    "Z.reset()\n",
    "Y_cond.reset()\n",
    "Y.reset()\n",
    "\n",
    "X.set_observed(0)\n",
    "Z.set_observed(0)\n",
    "\n",
    "X_prior.send_sp_msg(X)\n",
    "Z_prior.send_sp_msg(Z)\n",
    "X.send_sp_msg(Y_cond)\n",
    "Z.send_sp_msg(Y_cond)\n",
    "Y_cond.send_sp_msg(Y)\n",
    "\n",
    "assert np.allclose(Y.marginal(), [9.99900000e-01, 1.00000022e-04])\n"
   ]
  },
  {
   "cell_type": "markdown",
   "metadata": {
    "colab_type": "text",
    "id": "ETDhWFfdACyL"
   },
   "source": [
    "## Part 2: The max-sum algorithm\n",
    "Next, we implement the max-sum algorithm as described in section 8.4.5 of Bishop."
   ]
  },
  {
   "cell_type": "markdown",
   "metadata": {
    "colab_type": "text",
    "id": "wSEgtbnMACyM"
   },
   "source": [
    "### 2.1 Factor to variable messages (10 points)\n",
    "Implement the function `Factor.send_ms_msg` that sends Factor -> Variable messages for the max-sum algorithm. It is analogous to the `Factor.send_sp_msg` function you implemented before. Make sure it works for observed and unobserved nodes. Consider using a number of helper functions as seen in Part 1."
   ]
  },
  {
   "cell_type": "code",
   "execution_count": 27,
   "metadata": {
    "colab": {
     "autoexec": {
      "startup": false,
      "wait_interval": 0
     }
    },
    "colab_type": "code",
    "id": "eeyoP4VsACyM"
   },
   "outputs": [],
   "source": [
    "def factor_send_ms_msg(self, variable):\n",
    "    \n",
    "    ############### ############### ###############\n",
    "    \n",
    "    assert isinstance(variable, Variable), \"Factor can only send messages to variable!\"\n",
    "    assert can_send_message(self, variable), \"Cannot send message!\"\n",
    "    \n",
    "    f_neighb_first = move_dimension_first(self.f, self.neighbours.index(variable))\n",
    "    \n",
    "    nb_message = get_neighbour_messages(self, variable)\n",
    "    calc_other_neighbour_msg_sum = np.add.reduce(np.ix_(*nb_message)) + np.log(variable.observed_state)\n",
    "    \n",
    "    sum_msg = np.log(f_neighb_first) + calc_other_neighbour_msg_sum\n",
    "    \n",
    "    index = tuple(i for i in range(len(sum_msg.shape)) if i != 0)\n",
    "    \n",
    "    out_msg = np.max(sum_msg,index)\n",
    "    \n",
    "    ############### ############### ###############\n",
    "    \n",
    "    \n",
    "    # Send the message\n",
    "    variable.receive_msg(self, out_msg)\n",
    "    \n",
    "    # Remove the pending sign if present\n",
    "    self.pending.discard(variable)\n",
    "    \n",
    "Factor.send_ms_msg = factor_send_ms_msg\n"
   ]
  },
  {
   "cell_type": "code",
   "execution_count": 28,
   "metadata": {
    "colab": {
     "autoexec": {
      "startup": false,
      "wait_interval": 0
     }
    },
    "colab_type": "code",
    "id": "NneN-m1MACyN"
   },
   "outputs": [],
   "source": [
    "### Test test test\n",
    "# message from X_prior to X\n",
    "X_prior.reset()\n",
    "X.reset()\n",
    "\n",
    "X_prior.send_ms_msg(X)\n",
    "assert np.allclose(list(X.in_msgs.values()), [-0.05129329, -2.99573227])\n",
    "\n",
    "# message from Z_prior to Z\n",
    "Z_prior.reset()\n",
    "Z.reset()\n",
    "\n",
    "Z_prior.send_ms_msg(Z)\n",
    "assert np.allclose(list(Z.in_msgs.values()), [-0.22314355, -1.60943791])\n",
    "\n",
    "# message from Y_cond to Y\n",
    "Y_cond.reset()\n",
    "Y.reset()\n",
    "\n",
    "Y_cond.receive_msg(X, X_prior.f) # simulating that Y_cond received all necessary messages from X\n",
    "Y_cond.receive_msg(Z, Z_prior.f) # simulating that Y_cond received all necessary messages from Z\n",
    "Y_cond.send_ms_msg(Y)\n",
    "assert np.allclose(list(Y.in_msgs.values()), [1.74989999, 0.79332506])\n"
   ]
  },
  {
   "cell_type": "markdown",
   "metadata": {
    "colab_type": "text",
    "id": "wDx3tA4jACyO"
   },
   "source": [
    "### 2.2 Variable to factor messages (10 points)\n",
    "Implement the `Variable.send_ms_msg` function that sends Variable -> Factor messages for the max-sum algorithm."
   ]
  },
  {
   "cell_type": "code",
   "execution_count": 29,
   "metadata": {
    "colab": {
     "autoexec": {
      "startup": false,
      "wait_interval": 0
     }
    },
    "colab_type": "code",
    "id": "1K7qWrJsACyO"
   },
   "outputs": [],
   "source": [
    "# ANSWER 2.2\n",
    "def variable_send_ms_msg(self, factor):\n",
    "    \n",
    "    ############### ############### ###############\n",
    "        \n",
    "    if len(self.neighbours) == 1:\n",
    "        # leaf variable-node\n",
    "        out_msg = np.zeros(self.num_states)\n",
    "    else:             \n",
    "        nb_msg = get_neighbour_messages(self, factor) \n",
    "        out_msg = np.add.reduce(nb_msg)\n",
    "\n",
    "    out_msg = out_msg + np.log(self.observed_state)\n",
    "    \n",
    "    ############### ############### ###############\n",
    "    \n",
    "    # Send the message\n",
    "    factor.receive_msg(self, out_msg)\n",
    "    \n",
    "    # Remove the pending sign if present\n",
    "    self.pending.discard(factor)\n",
    "\n",
    "Variable.send_ms_msg = variable_send_ms_msg\n"
   ]
  },
  {
   "cell_type": "code",
   "execution_count": 30,
   "metadata": {
    "colab": {
     "autoexec": {
      "startup": false,
      "wait_interval": 0
     }
    },
    "colab_type": "code",
    "id": "Fe4y13BsACyP"
   },
   "outputs": [],
   "source": [
    "### Test test test\n",
    "Y_cond.reset()\n",
    "Y.reset()\n",
    "\n",
    "# First message from X to Y_cond\n",
    "X_prior.reset()\n",
    "X.reset()\n",
    "X_prior.send_ms_msg(X) # simulating that X received all necessary messages\n",
    "X.send_ms_msg(Y_cond)\n",
    "assert np.allclose(list(Y_cond.in_msgs.values()), [-0.05129329, -2.99573227])\n",
    "\n",
    "# Second message from Z to Y_cond\n",
    "Z_prior.reset()\n",
    "Z.reset()\n",
    "Z_prior.send_ms_msg(Z) # simulating that Z received all necessary messages\n",
    "Z.send_ms_msg(Y_cond)\n",
    "assert np.allclose(list(Y_cond.in_msgs.values()), [[-0.05129329, -2.99573227], [-0.22314355, -1.60943791]])\n"
   ]
  },
  {
   "cell_type": "markdown",
   "metadata": {
    "colab_type": "text",
    "id": "trhnK18nACyQ"
   },
   "source": [
    "### 2.3 Implement unnormalized log marginal (5 points)\n",
    "Write the method `unnormalized_log_marginal` for the `Variable` class, that computes a unnormalized log marginal distribution over that node."
   ]
  },
  {
   "cell_type": "code",
   "execution_count": 31,
   "metadata": {
    "colab": {
     "autoexec": {
      "startup": false,
      "wait_interval": 0
     }
    },
    "colab_type": "code",
    "id": "Jsk4cTgoACyQ"
   },
   "outputs": [],
   "source": [
    "def unnormalized_log_marginal(self):\n",
    "    \n",
    "    # YOUR CODE HERE\n",
    "    ############### ############### ###############\n",
    "\n",
    "    msg_prod = 0\n",
    "    for key, value in self.in_msgs.items():\n",
    "        msg_prod += value\n",
    "      \n",
    "    msg_prod = msg_prod + np.log(self.observed_state) \n",
    "    \n",
    "    ############### ############### ###############   \n",
    "    \n",
    "    return msg_prod\n",
    "\n",
    "Variable.unnormalized_log_marginal = unnormalized_log_marginal\n"
   ]
  },
  {
   "cell_type": "code",
   "execution_count": 32,
   "metadata": {
    "colab": {
     "autoexec": {
      "startup": false,
      "wait_interval": 0
     }
    },
    "colab_type": "code",
    "id": "JM-Ta8pEACyR"
   },
   "outputs": [],
   "source": [
    "### Test test test\n",
    "# Simulate a single forward pass\n",
    "X_prior.reset()\n",
    "X.reset()\n",
    "Z_prior.reset()\n",
    "Z.reset()\n",
    "Y_cond.reset()\n",
    "Y.reset()\n",
    "\n",
    "X_prior.send_ms_msg(X)\n",
    "Z_prior.send_ms_msg(Z)\n",
    "X.send_ms_msg(Y_cond)\n",
    "Z.send_ms_msg(Y_cond)\n",
    "Y_cond.send_ms_msg(Y)\n",
    "\n",
    "assert np.allclose(X.unnormalized_log_marginal(), [-0.05129329, -2.99573227])\n",
    "assert np.allclose(Z.unnormalized_log_marginal(), [-0.22314355, -1.60943791])\n",
    "assert np.allclose(Y.unnormalized_log_marginal(), [-0.27453685, -2.01740615])\n"
   ]
  },
  {
   "cell_type": "markdown",
   "metadata": {
    "colab_type": "text",
    "id": "zaaF-ahuACyS"
   },
   "source": [
    "### 2.4 Find a MAP state (10 points)\n",
    "\n",
    "Using the same message passing schedule we used for sum-product, implement the max-sum algorithm. For simplicity, we will ignore issues relating to non-unique maxima. So there is no need to implement backtracking; the MAP state is obtained by a per-node maximization (eq. 8.98 in Bishop). Make sure your algorithm works with both latent and observed variables."
   ]
  },
  {
   "cell_type": "code",
   "execution_count": 33,
   "metadata": {
    "colab": {
     "autoexec": {
      "startup": false,
      "wait_interval": 0
     }
    },
    "colab_type": "code",
    "id": "lUlFCLk1ACyS"
   },
   "outputs": [],
   "source": [
    "def max_sum(node_list):\n",
    "    \n",
    "    # YOUR CODE HERE\n",
    "    ############### ############### ###############   \n",
    "    \n",
    "    for idx, elem in enumerate(node_list):\n",
    "      while elem.pending:        \n",
    "        receiver = elem.pending.pop()\n",
    "        elem.send_ms_msg(receiver)\n",
    "        \n",
    "    for idx, elem in enumerate(list(reversed(node_list))):\n",
    "      while elem.pending:        \n",
    "        receiver = elem.pending.pop()\n",
    "        elem.send_ms_msg(receiver)\n",
    "    \n",
    "    ############### ############### ###############   "
   ]
  },
  {
   "cell_type": "code",
   "execution_count": 34,
   "metadata": {
    "colab": {
     "autoexec": {
      "startup": false,
      "wait_interval": 0
     },
     "base_uri": "https://localhost:8080/",
     "height": 69
    },
    "colab_type": "code",
    "executionInfo": {
     "elapsed": 529,
     "status": "ok",
     "timestamp": 1526127472084,
     "user": {
      "displayName": "Pascal Esser",
      "photoUrl": "https://lh3.googleusercontent.com/a/default-user=s128",
      "userId": "104710494754638466147"
     },
     "user_tz": -120
    },
    "id": "7b0zMyquACyT",
    "outputId": "1e47161c-8aa3-4de9-da6b-84a92907d2b3"
   },
   "outputs": [],
   "source": [
    "### Test test test: unobserved\n",
    "nodes = [X_prior, X, Z_prior, Z, Y_cond, Y]\n",
    "for n in nodes:\n",
    "    n.reset()\n",
    "    \n",
    "X_prior.pending.add(X)\n",
    "Z_prior.pending.add(Z)\n",
    "Y.pending.add(Y_cond)\n",
    "\n",
    "max_sum(nodes)\n",
    "assert np.allclose(Y.unnormalized_log_marginal(), [-0.27453685, -2.01740615] )\n"
   ]
  },
  {
   "cell_type": "code",
   "execution_count": 35,
   "metadata": {
    "colab": {
     "autoexec": {
      "startup": false,
      "wait_interval": 0
     },
     "base_uri": "https://localhost:8080/",
     "height": 69
    },
    "colab_type": "code",
    "executionInfo": {
     "elapsed": 538,
     "status": "ok",
     "timestamp": 1526127472876,
     "user": {
      "displayName": "Pascal Esser",
      "photoUrl": "https://lh3.googleusercontent.com/a/default-user=s128",
      "userId": "104710494754638466147"
     },
     "user_tz": -120
    },
    "id": "p3by1GPkACyU",
    "outputId": "cfabde9f-f480-4101-f888-8e2b7d8f9b61"
   },
   "outputs": [],
   "source": [
    "### Test test test: partiallY observed\n",
    "nodes = [X_prior, X, Z_prior, Z, Y_cond, Y]\n",
    "for n in nodes:\n",
    "    n.reset()\n",
    "    \n",
    "X_prior.pending.add(X)\n",
    "Z_prior.pending.add(Z)\n",
    "Y.pending.add(Y_cond)\n",
    "\n",
    "Z.set_observed(1)\n",
    "\n",
    "max_sum(nodes)\n",
    "assert np.allclose(Y.unnormalized_log_marginal(), [-2.86470401, -2.01740615])\n"
   ]
  },
  {
   "cell_type": "markdown",
   "metadata": {
    "colab_type": "text",
    "id": "X_GoXQLuACyU"
   },
   "source": [
    "Given the max-marginals what do you have to do in order to find the global optimum? Why can we neglect the normalization constant here?"
   ]
  },
  {
   "cell_type": "markdown",
   "metadata": {
    "colab_type": "text",
    "id": "j8sIULJOACyV"
   },
   "source": [
    "YOUR ANSWER HERE\n",
    "\n",
    "In order to find the global optimum, we need to keep track of the maximizing element when calculating the Factor-Variable messages (by using argmax() instead of max()). Then, once we know the most probable value of the final node $x_N$, we can follow this link (i.e. the maximizing element) to find the most probable state of node $x_{N-1}$ and so on back to the initial node $x_1$. This process is known as back-tracking and will results in a globally consistent maximizing configuration.\n",
    "\n",
    "The normalization only gives us a continuous transformation and does not change the position of the maximum and can therefore be discarded."
   ]
  },
  {
   "cell_type": "markdown",
   "metadata": {
    "colab_type": "text",
    "id": "7fIBfO_IACyV"
   },
   "source": [
    "## Part 3: Medical graph\n",
    "Now that we implemented the sum-product and max-sum algorithm. We will apply them to a poly-tree structured medical diagnosis example.\n",
    "\n"
   ]
  },
  {
   "cell_type": "markdown",
   "metadata": {
    "colab_type": "text",
    "id": "ctsn5gwBACyV"
   },
   "source": [
    "### 3.1 Initialize the graph (5 points)\n",
    "\n",
    "Convert the directed graphical model (\"Bayesian Network\") shown below to a factor graph. Instantiate this graph by creating Variable and Factor instances and linking them according to the graph structure. \n",
    "To instantiate the factor graph, first create the Variable nodes and then create Factor nodes, passing a list of neighbour Variables to each Factor.\n",
    "Use the following prior and conditional probabilities.\n",
    "\n",
    "$$\n",
    "p(\\verb+Influenza+) = 0.05 \\\\\\\\\n",
    "p(\\verb+Smokes+) = 0.2 \\\\\\\\\n",
    "$$\n",
    "$$\n",
    "p(\\verb+SoreThroat+ = 1 | \\verb+Influenza+ = 1) = 0.3 \\\\\\\\\n",
    "p(\\verb+SoreThroat+ = 1 | \\verb+Influenza+ = 0) = 0.001 \\\\\\\\\n",
    "p(\\verb+Fever+ = 1| \\verb+Influenza+ = 1) = 0.9 \\\\\\\\\n",
    "p(\\verb+Fever+ = 1| \\verb+Influenza+ = 0) 0.05 \\\\\\\\\n",
    "p(\\verb+Bronchitis+ = 1 | \\verb+Influenza+ = 1, \\verb+Smokes+ = 1) = 0.99 \\\\\\\\\n",
    "p(\\verb+Bronchitis+ = 1 | \\verb+Influenza+ = 1, \\verb+Smokes+ = 0) = 0.9 \\\\\\\\\n",
    "p(\\verb+Bronchitis+ = 1 | \\verb+Influenza+ = 0, \\verb+Smokes+ = 1) = 0.7 \\\\\\\\\n",
    "p(\\verb+Bronchitis+ = 1 | \\verb+Influenza+ = 0, \\verb+Smokes+ = 0) = 0.0001 \\\\\\\\\n",
    "p(\\verb+Coughing+ = 1| \\verb+Bronchitis+ = 1) = 0.8 \\\\\\\\\n",
    "p(\\verb+Coughing+ = 1| \\verb+Bronchitis+ = 0) = 0.07 \\\\\\\\\n",
    "p(\\verb+Wheezing+ = 1| \\verb+Bronchitis+ = 1) = 0.6 \\\\\\\\\n",
    "p(\\verb+Wheezing+ = 1| \\verb+Bronchitis+ = 0) = 0.001 \\\\\\\\\n",
    "$$"
   ]
  },
  {
   "cell_type": "code",
   "execution_count": 36,
   "metadata": {
    "colab": {
     "autoexec": {
      "startup": false,
      "wait_interval": 0
     }
    },
    "colab_type": "code",
    "id": "vpBstdd4ACyW"
   },
   "outputs": [],
   "source": [
    "# YOUR CODE HERE\n",
    "############### ############### ###############\n",
    "\n",
    "#create variables\n",
    "Influenza = Variable(name='Influenza', num_states=2)\n",
    "Smokes = Variable(name='Smokes', num_states=2)\n",
    "SoreThroat = Variable(name='SoreThroat', num_states=2)\n",
    "Fever = Variable(name='Fever', num_states=2)\n",
    "Bronchitis = Variable(name='Bronchitis', num_states=2)\n",
    "Coughing = Variable(name='Coughing', num_states=2)\n",
    "Wheezing = Variable(name='Wheezing', num_states=2)\n",
    "\n",
    "\n",
    "#create factors\n",
    "Influenza_prior = Factor(name='p(Influenza)',\n",
    "                        f=np.array([0.95,0.05]),\n",
    "                        neighbours=[Influenza])\n",
    "\n",
    "Smokes_prior = Factor(name='p(Smokes)',\n",
    "                        f=np.array([0.8,0.2]),\n",
    "                        neighbours=[Smokes])\n",
    "\n",
    "SoreThroat_cond = Factor(name='p(SoreThroat|Influenza)',\n",
    "                        f=np.array([[0.999,0.7],[0.001,0.3]]),\n",
    "                        neighbours=[SoreThroat,Influenza])\n",
    "\n",
    "Fever_cond = Factor(name='p(Fever|Influenza)',\n",
    "                        f=np.array([[0.95,0.1],[0.05,0.9]]),\n",
    "                        neighbours=[Fever,Influenza])\n",
    "\n",
    "Bronchitis_cond = Factor(name='p(Bronchitis|Influenza,Smokes)',\n",
    "                        f=np.array([[[0.9999,0.3],[0.1,0.01]],\n",
    "                                    [[0.0001,0.7],[0.9,0.99]]]),\n",
    "                        neighbours=[Bronchitis,Influenza,Smokes])\n",
    "\n",
    "Coughing_cond = Factor(name='p(Coughing|Bronchitis)',\n",
    "                        f=np.array([[0.93,0.2],[0.07,0.8]]),\n",
    "                        neighbours=[Coughing,Bronchitis])\n",
    "\n",
    "Wheezing_cond = Factor(name='p(Wheezing|Bronchitis)',\n",
    "                        f=np.array([[0.999,0.4],[0.001,0.6]]),\n",
    "                        neighbours=[Wheezing,Bronchitis])\n",
    "\n",
    "############### ############### ###############\n"
   ]
  },
  {
   "cell_type": "markdown",
   "metadata": {
    "colab_type": "text",
    "id": "NBFeUENuACyX"
   },
   "source": [
    "### 3.2. Sum-product algorithm (10 points)"
   ]
  },
  {
   "cell_type": "markdown",
   "metadata": {
    "colab_type": "text",
    "id": "5hEn5-M9ACyX"
   },
   "source": [
    "3.2.1 Run the sum-product algorithm on an unobserved graph. Print the marginal for every variable node."
   ]
  },
  {
   "cell_type": "code",
   "execution_count": 37,
   "metadata": {
    "colab": {
     "autoexec": {
      "startup": false,
      "wait_interval": 0
     },
     "base_uri": "https://localhost:8080/",
     "height": 138
    },
    "colab_type": "code",
    "executionInfo": {
     "elapsed": 769,
     "status": "ok",
     "timestamp": 1526127475035,
     "user": {
      "displayName": "Pascal Esser",
      "photoUrl": "https://lh3.googleusercontent.com/a/default-user=s128",
      "userId": "104710494754638466147"
     },
     "user_tz": -120
    },
    "id": "UhV7IehRACyX",
    "outputId": "64a55713-9edf-4c1b-fc4b-f5a80bcd96f3"
   },
   "outputs": [
    {
     "name": "stdout",
     "output_type": "stream",
     "text": [
      "Marginal of SoreThroat is [0.98405 0.01595]\n",
      "Marginal of Fever is [0.9075 0.0925]\n",
      "Marginal of Influenza is [0.95 0.05]\n",
      "Marginal of Coughing is [0.79934752 0.20065248]\n",
      "Marginal of Wheezing is [0.89179338 0.10820662]\n",
      "Marginal of Bronchitis is [0.821024 0.178976]\n",
      "Marginal of Smokes is [0.8 0.2]\n"
     ]
    }
   ],
   "source": [
    "# YOUR CODE HERE\n",
    "############### ############### ###############\n",
    "\n",
    "nodes = [Influenza_prior, SoreThroat, SoreThroat_cond, Fever, Fever_cond, Influenza,\n",
    "         Coughing, Coughing_cond, Wheezing, Wheezing_cond, Bronchitis, Smokes_prior,\n",
    "         Smokes, Bronchitis_cond]\n",
    "\n",
    "for n in nodes:\n",
    "    n.reset()\n",
    "    \n",
    "Influenza_prior.pending.add(Influenza)\n",
    "SoreThroat.pending.add(SoreThroat_cond)\n",
    "Fever.pending.add(Fever_cond)\n",
    "Coughing.pending.add(Coughing_cond)\n",
    "Wheezing.pending.add(Wheezing_cond)\n",
    "Smokes_prior.pending.add(Smokes)\n",
    "\n",
    "sum_product(nodes)\n",
    "\n",
    "for n in nodes:\n",
    "  if type(n) == Variable:\n",
    "    print(f'Marginal of {n} is {n.marginal()}')\n",
    "\n",
    "############### ############### ###############"
   ]
  },
  {
   "cell_type": "markdown",
   "metadata": {
    "colab_type": "text",
    "id": "eFUtcd7YACyY"
   },
   "source": [
    "3.2.2 Rerun the sum-product algorithm on an partially observed graph, where the variable 'Influenza' is set to 0. Print the marginal for every variable node."
   ]
  },
  {
   "cell_type": "code",
   "execution_count": 38,
   "metadata": {
    "colab": {
     "autoexec": {
      "startup": false,
      "wait_interval": 0
     },
     "base_uri": "https://localhost:8080/",
     "height": 138
    },
    "colab_type": "code",
    "executionInfo": {
     "elapsed": 513,
     "status": "ok",
     "timestamp": 1526127475830,
     "user": {
      "displayName": "Pascal Esser",
      "photoUrl": "https://lh3.googleusercontent.com/a/default-user=s128",
      "userId": "104710494754638466147"
     },
     "user_tz": -120
    },
    "id": "WdoMHCvJACyZ",
    "outputId": "85506ff0-e046-4788-f370-d8dc9d80448d"
   },
   "outputs": [
    {
     "name": "stdout",
     "output_type": "stream",
     "text": [
      "Marginal of SoreThroat is [0.999 0.001]\n",
      "Marginal of Fever is [0.95 0.05]\n",
      "Marginal of Influenza is [1.00000000e+00 5.26315789e-12]\n",
      "Marginal of Coughing is [0.8277416 0.1722584]\n",
      "Marginal of Wheezing is [0.91509208 0.08490792]\n",
      "Marginal of Bronchitis is [0.85992 0.14008]\n",
      "Marginal of Smokes is [0.8 0.2]\n"
     ]
    }
   ],
   "source": [
    "# YOUR CODE HERE\n",
    "############### ############### ###############\n",
    "\n",
    "for n in nodes:\n",
    "    n.reset()\n",
    "    \n",
    "Influenza_prior.pending.add(Influenza)\n",
    "SoreThroat.pending.add(SoreThroat_cond)\n",
    "Fever.pending.add(Fever_cond)\n",
    "Coughing.pending.add(Coughing_cond)\n",
    "Wheezing.pending.add(Wheezing_cond)\n",
    "Smokes_prior.pending.add(Smokes)\n",
    "\n",
    "Influenza.set_observed(0)\n",
    "\n",
    "sum_product(nodes)\n",
    "\n",
    "for n in nodes:\n",
    "  if type(n) == Variable:\n",
    "    print(f'Marginal of {n} is {n.marginal()}')\n",
    "    \n",
    "############### ############### ###############"
   ]
  },
  {
   "cell_type": "markdown",
   "metadata": {
    "colab_type": "text",
    "id": "U2puEyOiACya"
   },
   "source": [
    "### 3.3. max-sum algorithm (10 points)"
   ]
  },
  {
   "cell_type": "markdown",
   "metadata": {
    "colab_type": "text",
    "id": "vdoIoW2nACya"
   },
   "source": [
    "3.3.1 Run the max_sum algorithm on an unobserved graph. Print the marginal for every variable node."
   ]
  },
  {
   "cell_type": "code",
   "execution_count": 39,
   "metadata": {
    "colab": {
     "autoexec": {
      "startup": false,
      "wait_interval": 0
     },
     "base_uri": "https://localhost:8080/",
     "height": 190
    },
    "colab_type": "code",
    "executionInfo": {
     "elapsed": 582,
     "status": "ok",
     "timestamp": 1526127476677,
     "user": {
      "displayName": "Pascal Esser",
      "photoUrl": "https://lh3.googleusercontent.com/a/default-user=s128",
      "userId": "104710494754638466147"
     },
     "user_tz": -120
    },
    "id": "ct4joTJsACya",
    "outputId": "304ca6b9-78a0-4fcf-bec4-8436f78727e9"
   },
   "outputs": [
    {
     "name": "stdout",
     "output_type": "stream",
     "text": [
      "Unnormalized log-marginal of SoreThroat is [-0.40040184 -5.36753884]\n",
      "Unnormalized log-marginal of Fever is [-0.40040184 -3.34484082]\n",
      "Unnormalized log-marginal of Influenza is [-0.40040184 -4.52024098]\n",
      "Unnormalized log-marginal of Coughing is [-0.40040184 -2.80366912]\n",
      "Unnormalized log-marginal of Wheezing is [-0.40040184 -2.80366912]\n",
      "Unnormalized log-marginal of Bronchitis is [-0.40040184 -2.80366912]\n",
      "Unnormalized log-marginal of Smokes is [-0.40040184 -2.80366912]\n"
     ]
    }
   ],
   "source": [
    "\n",
    "# YOUR CODE HERE\n",
    "############### ############### ###############\n",
    "for n in nodes:\n",
    "    n.reset()\n",
    "    \n",
    "Influenza_prior.pending.add(Influenza)\n",
    "SoreThroat.pending.add(SoreThroat_cond)\n",
    "Fever.pending.add(Fever_cond)\n",
    "Coughing.pending.add(Coughing_cond)\n",
    "Wheezing.pending.add(Wheezing_cond)\n",
    "Smokes_prior.pending.add(Smokes)\n",
    "\n",
    "max_sum(nodes)\n",
    "\n",
    "for n in nodes:\n",
    "  if type(n) == Variable:\n",
    "    print(f'Unnormalized log-marginal of {n} is {n.unnormalized_log_marginal()}')\n",
    "\n",
    "############### ############### ###############"
   ]
  },
  {
   "cell_type": "markdown",
   "metadata": {
    "colab_type": "text",
    "id": "vB2_HuWtACyb"
   },
   "source": [
    "3.3.2 Rerun the max_sum algorithm on an partially observed graph, where the variable 'Influenza' is set to 0. Print the marginal for every variable node."
   ]
  },
  {
   "cell_type": "code",
   "execution_count": 40,
   "metadata": {
    "colab": {
     "autoexec": {
      "startup": false,
      "wait_interval": 0
     },
     "base_uri": "https://localhost:8080/",
     "height": 190
    },
    "colab_type": "code",
    "executionInfo": {
     "elapsed": 533,
     "status": "ok",
     "timestamp": 1526127477447,
     "user": {
      "displayName": "Pascal Esser",
      "photoUrl": "https://lh3.googleusercontent.com/a/default-user=s128",
      "userId": "104710494754638466147"
     },
     "user_tz": -120
    },
    "id": "ZS0DjPmiACyb",
    "outputId": "1d0a16fa-3378-4d34-9280-734055e3957e"
   },
   "outputs": [
    {
     "name": "stdout",
     "output_type": "stream",
     "text": [
      "Unnormalized log-marginal of SoreThroat is [-0.40040184 -7.30715662]\n",
      "Unnormalized log-marginal of Fever is [-0.40040184 -3.34484082]\n",
      "Unnormalized log-marginal of Influenza is [ -0.40040184 -52.76916741]\n",
      "Unnormalized log-marginal of Coughing is [-0.40040184 -2.80366912]\n",
      "Unnormalized log-marginal of Wheezing is [-0.40040184 -2.80366912]\n",
      "Unnormalized log-marginal of Bronchitis is [-0.40040184 -2.80366912]\n",
      "Unnormalized log-marginal of Smokes is [-0.40040184 -2.80366912]\n"
     ]
    }
   ],
   "source": [
    "\n",
    "# YOUR CODE HERE\n",
    "############### ############### ###############\n",
    "\n",
    "for n in nodes:\n",
    "    n.reset()\n",
    "    \n",
    "Influenza_prior.pending.add(Influenza)\n",
    "SoreThroat.pending.add(SoreThroat_cond)\n",
    "Fever.pending.add(Fever_cond)\n",
    "Coughing.pending.add(Coughing_cond)\n",
    "Wheezing.pending.add(Wheezing_cond)\n",
    "Smokes_prior.pending.add(Smokes)\n",
    "\n",
    "Influenza.set_observed(0)\n",
    "\n",
    "max_sum(nodes)\n",
    "\n",
    "for n in nodes:\n",
    "  if type(n) == Variable:\n",
    "    print(f'Unnormalized log-marginal of {n} is {n.unnormalized_log_marginal()}')\n",
    "\n",
    "############### ############### ###############"
   ]
  }
 ],
 "metadata": {
  "colab": {
   "collapsed_sections": [
    "wSEgtbnMACyM",
    "wDx3tA4jACyO",
    "trhnK18nACyQ",
    "zaaF-ahuACyS",
    "7fIBfO_IACyV",
    "ctsn5gwBACyV",
    "NBFeUENuACyX",
    "U2puEyOiACya"
   ],
   "default_view": {},
   "name": "lab2.ipynb",
   "provenance": [],
   "version": "0.3.2",
   "views": {}
  },
  "kernelspec": {
   "display_name": "Python 3",
   "language": "python",
   "name": "python3"
  },
  "language_info": {
   "codemirror_mode": {
    "name": "ipython",
    "version": 3
   },
   "file_extension": ".py",
   "mimetype": "text/x-python",
   "name": "python",
   "nbconvert_exporter": "python",
   "pygments_lexer": "ipython3",
   "version": "3.6.4"
  }
 },
 "nbformat": 4,
 "nbformat_minor": 1
}
